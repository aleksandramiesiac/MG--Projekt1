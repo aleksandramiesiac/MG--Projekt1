{
 "cells": [
  {
   "cell_type": "markdown",
   "metadata": {},
   "source": [
    "# Metody Głębokiego uczenia\n",
    "# Raport - Projekt 1\n",
    "\n",
    "* *Aleksandra Miesiąc*\n",
    "* *Agata Pałdyna* \n",
    "* *Katarzyna Spalińska*"
   ]
  },
  {
   "cell_type": "code",
   "execution_count": null,
   "metadata": {},
   "outputs": [],
   "source": [
    "@ TODO : \n",
    "    \n",
    "    RAPORT\n",
    "1) Wstęp (coś tam że ten raport dotyczy projektu zrealizowanego w ramach przedmiotu MGU, \n",
    "          na czym polegał projekt, że został napisany pogram, co robi ten program, do czego służy)\n",
    "2) Opis programu (architektura, klasy, funkcje, plik konfiguracyjny, itp)\n",
    "        2.1) \n",
    "        2.2)\n",
    "    ...\n",
    "3) Przeprowadzone eksperymenty (wykresy itp)\n",
    "4) Wnioski"
   ]
  },
  {
   "cell_type": "markdown",
   "metadata": {},
   "source": [
    "# Opis architektury programu"
   ]
  },
  {
   "cell_type": "markdown",
   "metadata": {},
   "source": [
    "Program składa się z kilku modułów oraz pliku konfiguracyjnego, służącego do ustalenia parametrów sieci, opisanego w kolejnym punkcie raportu. \n",
    "\n",
    "__Plik *activation_functions.py*__ zawiera implementacje 11 różnych funkcji aktywacji wraz z ich pochodnymi, tak aby można było swobodnie zmieniać ten parametr sieci. Zadana w pliku konfiguracyjnym funkcja aktywacji jest przypisana wszystkim neuronom wewnątrz sieci w przypadku problemu klasyfikacji, zaś wszystkim neuronom warstw ukrytych w przypadku problemu regresji (neurony warstwy wejściowej i wyjściowej mają funkcję aktywacji \"ReLU\").\n",
    "\n",
    "\n",
    "__Plik *neural_network.py*__ zawiera implementacje dwóch klas: NeuralNetwork oraz Layer.\n",
    "\n",
    "__Klasa Layer__\n",
    "Implementuje obiekt \"warstwa\", której atrybutami są:\n",
    "* rozmiar warstwy\n",
    "* wektor wag (podczas tworzenia generowany losowo)\n",
    "* wektor wartości neuronów (podczas tworzenia pusty)\n",
    "\n",
    "__Klasa NeuralNetwork__\n",
    "Implementuje obiekt \"sieć neuronowa\", której atrybutami są:\n",
    "* *input_vector* - wektor wejściowy sieci\n",
    "* *output_vector* - wektor wyjściowy, obliczony przez sieć\n",
    "* *output* - oczekiwane wyjście sieci\n",
    "* *layers* - wektor warstw (obiektów typu Layer)\n",
    "* *number_of_layers* - liczba warstw (z pliku konfiguracyjnego)\n",
    "* *layer_size* - liczba neuronów w warstwie (z pliku konfiguracyjnego)\n",
    "* *activation_function* - funkcja aktywacji (z pliku konfiguracyjnego)\n",
    "* *learning_rate* - współczynnik uczenia (z pliku konfiguracyjnego)\n",
    "* *problem* - rodzaj problemu, dla którego sieć będzie trenowana (z pliku konfiguracyjnego)\n",
    "* *number_of_samples*\n",
    "\n",
    "Zawiera funkcje:\n",
    "* *add_layers()* - budującą strukturę sieci. Tworzy odpowiednie obiekty klasy Layer i umieszcza je w wektorze warstw.\n",
    "* *backpropagation()* - funkcja implementująca algorytm propagacji wstecznej\n",
    "* *loss_function()* - funkcja obliczająca błąd sieci według wzoru: (norm(y' - y))^2\n",
    "* *feedforward()* - funkcja implementująca algorytm przechodzenia przez sieć od wejścia do wyjścia\n",
    "* *argmax_output()* - funkcja która transformuje macierzowe wyjście sieci, zakodowane metodą 'one-hot encoding', na pojedynczy wektor o wartościach takich jak klasy w wektorze oczekiwanego wyjścia sieci (wybierając klasę o największym prawdopodobieństwie)\n",
    "* *train()* - funkcja trenowania sieci, w której wywołane są raz, kolejno: *feedforward()*, *backpropagation()*\n",
    "* *predict()* - funkcja implementująca predykcję na nauczonej sieci, wywołująca raz funkcję *feedforward()* i zwracająca wektor wyjściowy sieci (dla problemu regresji) oraz przerobiony funkcją *argmax_output* wektor wyjściowy sieci dla problemu klasyfikacji.\n",
    "* evaluate()* - funkcja obliczająca procent poprawnych odpowiedzi sieci\n",
    "\n",
    "__Plik *main.py*__\n",
    "\n",
    "W pliku main.py następuje kolejno:\n",
    "* wczytanie pliku konfiguracyjnego\n",
    "* wczytanie plików ze zbiorami treningowymi i testowymi\n",
    "* podzielenie zbiorów danych na podzbiory train_X, train_y, test_X, test_y\n",
    "* podzielenie zbiorów danych na podzbiory (*batch*)\n",
    "* utworzenie sieci neuronowej zgodnie z plikiem konfiguracyjnym\n",
    "* iteracyjne trenowanie sieci\n",
    "* ewaluacja wyników wraz z wygenerowaniem wykresów"
   ]
  },
  {
   "cell_type": "markdown",
   "metadata": {},
   "source": [
    "# Opis pliku konfiguracyjnego:"
   ]
  },
  {
   "cell_type": "markdown",
   "metadata": {},
   "source": [
    "Parametry sieci oraz ustawienia programu można modyfikować za pomocą pliku configuration_file.txt, w którym dane zapisane są w postaci nazwa_parametru=wartość. Znajdują się w nim następujące pola:\n",
    "* *number_of_layers* – liczba ukrytych warstw; liczba naturalna\n",
    "* *layer_size* – rozmiar warstw (liczba neuronów w warstwie); liczba naturalna lub lista liczb naturalnych oddzielonych przecinkami (np. 3,5,2)\n",
    "* *activation_function* – nazwa funkcji aktywacji\n",
    "* *number_of_iterations* – liczba iteracji/epok; liczba naturalna\n",
    "* *learning_rate* – wartość współczynnika nauki; liczba rzeczywista dodatnia\n",
    "* *batch_size* – rozmiar batcha; liczba naturalna\n",
    "* *problem* – rodzaj problemu: klasyfikacja (classification) lub regresja (regression)\n",
    "* *set_name* – nazwa zbioru danych\n",
    "* *number_of_samples* – liczba próbek w zbiorze; liczba naturalna\n",
    "\n",
    "Uwagi: \n",
    "Zakładamy, że użytkownik podaje 'poprawne' wartości poszczególnych parametrów.\n",
    "Przez liczby naturalne rozumiemy liczby całkowite dodatnie, tj. zbiór {1, 2, 3, …}.\n",
    "\n",
    "Liczbę warstw i neuronów ukrytych w każdej warstwie można definiować na dwa sposoby.\n",
    "Sposób 1: gdy parametr *layer_size* podamy jako pojedynczą liczbę, wówczas każda z *number_of_layers* warstw zawiera *layer_size* neuronów.\n",
    "Sposób 2: gdy parametr *layer_size* podamy jako listę liczb oddzielonych przecinkami, wówczas i-ta warstwa zawiera *layer_size*[i] neuronów, a *number_of_layers* jest równe długości listy *layer_size*.\n",
    "\n",
    "Pola *set_name* i *number_of_samples* stanowią części nazwy wczytywanego zbioru danych (nazwy plików są postaci *data.set_name.train.number_of_samples.csv* dla zbiorów listę treningowych oraz *data.set_name.test.number_of_samples.csv* dla zbiorów testowych)."
   ]
  },
  {
   "cell_type": "markdown",
   "metadata": {},
   "source": [
    "# Wyniki przeprowadzonych eksperymentów:"
   ]
  },
  {
   "cell_type": "markdown",
   "metadata": {},
   "source": [
    "Wczytanie plików png, zawierających wykresy przedstawiające wyniki działania sieci:"
   ]
  },
  {
   "cell_type": "code",
   "execution_count": 33,
   "metadata": {},
   "outputs": [],
   "source": [
    "import os,glob\n",
    "\n",
    "rootdir = '/home/kasia/Pulpit/Studia/MGU/projekt1/MG--Projekt1/Porownania'\n",
    "\n",
    "classification_files = []\n",
    "regression_files = []\n",
    "\n",
    "# Klasyfikacja:\n",
    "for subdir, dirs, files in os.walk(rootdir+\"/Classification\"):\n",
    "    for directory in dirs:\n",
    "        if directory != None and not os.path.exists(directory):\n",
    "            os.mkdir(directory)\n",
    "    for file in sorted(files):\n",
    "        filename, ext = os.path.splitext(file)\n",
    "        if ext != '.txt':\n",
    "            classification_files.append('files/Porownania/Classification/'+file)\n",
    "        \n",
    "# Regresja\n",
    "for subdir, dirs, files in os.walk(rootdir+\"/Regression\"):\n",
    "    for directory in dirs:\n",
    "        if directory != None and not os.path.exists(directory):\n",
    "            os.mkdir(directory)\n",
    "    for file in sorted(files):\n",
    "        filename, _ = os.path.splitext(file)\n",
    "        regression_files.append('files/Porownania/Regression/'+file)"
   ]
  },
  {
   "cell_type": "markdown",
   "metadata": {},
   "source": [
    "1. Wyniki - Klasyfikacja"
   ]
  },
  {
   "cell_type": "code",
   "execution_count": 34,
   "metadata": {
    "scrolled": true
   },
   "outputs": [
    {
     "name": "stdout",
     "output_type": "stream",
     "text": [
      "XOR100.png\n"
     ]
    },
    {
     "data": {
      "text/html": [
       "<table><tr><td><img src='files/Porownania/Classification/XOR100.png'></td><td><img src='files/Porownania/Classification/XOR1000.png'></td></tr></table>"
      ],
      "text/plain": [
       "<IPython.core.display.HTML object>"
      ]
     },
     "metadata": {},
     "output_type": "display_data"
    },
    {
     "name": "stdout",
     "output_type": "stream",
     "text": [
      "XOR10000.png\n"
     ]
    },
    {
     "data": {
      "text/html": [
       "<table><tr><td><img src='files/Porownania/Classification/XOR1000.png'></td><td><img src='files/Porownania/Classification/XOR10000.png'></td></tr></table>"
      ],
      "text/plain": [
       "<IPython.core.display.HTML object>"
      ]
     },
     "metadata": {},
     "output_type": "display_data"
    },
    {
     "name": "stdout",
     "output_type": "stream",
     "text": [
      "XOR1000loss.png\n"
     ]
    },
    {
     "data": {
      "text/html": [
       "<table><tr><td><img src='files/Porownania/Classification/XOR10000.png'></td><td><img src='files/Porownania/Classification/XOR10000loss.png'></td></tr></table>"
      ],
      "text/plain": [
       "<IPython.core.display.HTML object>"
      ]
     },
     "metadata": {},
     "output_type": "display_data"
    },
    {
     "name": "stdout",
     "output_type": "stream",
     "text": [
      "XOR100result.png\n"
     ]
    },
    {
     "data": {
      "text/html": [
       "<table><tr><td><img src='files/Porownania/Classification/XOR10000loss.png'></td><td><img src='files/Porownania/Classification/XOR1000loss.png'></td></tr></table>"
      ],
      "text/plain": [
       "<IPython.core.display.HTML object>"
      ]
     },
     "metadata": {},
     "output_type": "display_data"
    },
    {
     "name": "stdout",
     "output_type": "stream",
     "text": [
      "XOR500loss.png\n"
     ]
    },
    {
     "data": {
      "text/html": [
       "<table><tr><td><img src='files/Porownania/Classification/XOR1000loss.png'></td><td><img src='files/Porownania/Classification/XOR100loss.png'></td></tr></table>"
      ],
      "text/plain": [
       "<IPython.core.display.HTML object>"
      ]
     },
     "metadata": {},
     "output_type": "display_data"
    },
    {
     "name": "stdout",
     "output_type": "stream",
     "text": [
      "circles1000.png\n"
     ]
    },
    {
     "data": {
      "text/html": [
       "<table><tr><td><img src='files/Porownania/Classification/XOR100loss.png'></td><td><img src='files/Porownania/Classification/XOR100result.png'></td></tr></table>"
      ],
      "text/plain": [
       "<IPython.core.display.HTML object>"
      ]
     },
     "metadata": {},
     "output_type": "display_data"
    },
    {
     "name": "stdout",
     "output_type": "stream",
     "text": [
      "circles10000loss.png\n"
     ]
    },
    {
     "data": {
      "text/html": [
       "<table><tr><td><img src='files/Porownania/Classification/XOR100result.png'></td><td><img src='files/Porownania/Classification/XOR500.png'></td></tr></table>"
      ],
      "text/plain": [
       "<IPython.core.display.HTML object>"
      ]
     },
     "metadata": {},
     "output_type": "display_data"
    },
    {
     "name": "stdout",
     "output_type": "stream",
     "text": [
      "circles100loss.png\n"
     ]
    },
    {
     "data": {
      "text/html": [
       "<table><tr><td><img src='files/Porownania/Classification/XOR500.png'></td><td><img src='files/Porownania/Classification/XOR500loss.png'></td></tr></table>"
      ],
      "text/plain": [
       "<IPython.core.display.HTML object>"
      ]
     },
     "metadata": {},
     "output_type": "display_data"
    },
    {
     "name": "stdout",
     "output_type": "stream",
     "text": [
      "circles500loss.png\n"
     ]
    },
    {
     "data": {
      "text/html": [
       "<table><tr><td><img src='files/Porownania/Classification/XOR500loss.png'></td><td><img src='files/Porownania/Classification/circles100.png'></td></tr></table>"
      ],
      "text/plain": [
       "<IPython.core.display.HTML object>"
      ]
     },
     "metadata": {},
     "output_type": "display_data"
    },
    {
     "name": "stdout",
     "output_type": "stream",
     "text": [
      "noisyXOR1000.png\n"
     ]
    },
    {
     "data": {
      "text/html": [
       "<table><tr><td><img src='files/Porownania/Classification/circles100.png'></td><td><img src='files/Porownania/Classification/circles1000.png'></td></tr></table>"
      ],
      "text/plain": [
       "<IPython.core.display.HTML object>"
      ]
     },
     "metadata": {},
     "output_type": "display_data"
    },
    {
     "name": "stdout",
     "output_type": "stream",
     "text": [
      "noisyXOR10000loss.png\n"
     ]
    },
    {
     "data": {
      "text/html": [
       "<table><tr><td><img src='files/Porownania/Classification/circles1000.png'></td><td><img src='files/Porownania/Classification/circles10000.png'></td></tr></table>"
      ],
      "text/plain": [
       "<IPython.core.display.HTML object>"
      ]
     },
     "metadata": {},
     "output_type": "display_data"
    },
    {
     "name": "stdout",
     "output_type": "stream",
     "text": [
      "noisyXOR100loss.png\n"
     ]
    },
    {
     "data": {
      "text/html": [
       "<table><tr><td><img src='files/Porownania/Classification/circles10000.png'></td><td><img src='files/Porownania/Classification/circles10000loss.png'></td></tr></table>"
      ],
      "text/plain": [
       "<IPython.core.display.HTML object>"
      ]
     },
     "metadata": {},
     "output_type": "display_data"
    },
    {
     "name": "stdout",
     "output_type": "stream",
     "text": [
      "noisyXOR500loss.png\n"
     ]
    },
    {
     "data": {
      "text/html": [
       "<table><tr><td><img src='files/Porownania/Classification/circles10000loss.png'></td><td><img src='files/Porownania/Classification/circles1000loss.png'></td></tr></table>"
      ],
      "text/plain": [
       "<IPython.core.display.HTML object>"
      ]
     },
     "metadata": {},
     "output_type": "display_data"
    },
    {
     "name": "stdout",
     "output_type": "stream",
     "text": [
      "simple1000.png\n"
     ]
    },
    {
     "data": {
      "text/html": [
       "<table><tr><td><img src='files/Porownania/Classification/circles1000loss.png'></td><td><img src='files/Porownania/Classification/circles100loss.png'></td></tr></table>"
      ],
      "text/plain": [
       "<IPython.core.display.HTML object>"
      ]
     },
     "metadata": {},
     "output_type": "display_data"
    },
    {
     "name": "stdout",
     "output_type": "stream",
     "text": [
      "simple10000loss.png\n"
     ]
    },
    {
     "data": {
      "text/html": [
       "<table><tr><td><img src='files/Porownania/Classification/circles100loss.png'></td><td><img src='files/Porownania/Classification/circles500.png'></td></tr></table>"
      ],
      "text/plain": [
       "<IPython.core.display.HTML object>"
      ]
     },
     "metadata": {},
     "output_type": "display_data"
    },
    {
     "name": "stdout",
     "output_type": "stream",
     "text": [
      "simple100loss.png\n"
     ]
    },
    {
     "data": {
      "text/html": [
       "<table><tr><td><img src='files/Porownania/Classification/circles500.png'></td><td><img src='files/Porownania/Classification/circles500loss.png'></td></tr></table>"
      ],
      "text/plain": [
       "<IPython.core.display.HTML object>"
      ]
     },
     "metadata": {},
     "output_type": "display_data"
    },
    {
     "name": "stdout",
     "output_type": "stream",
     "text": [
      "simple500loss.png\n"
     ]
    },
    {
     "data": {
      "text/html": [
       "<table><tr><td><img src='files/Porownania/Classification/circles500loss.png'></td><td><img src='files/Porownania/Classification/noisyXOR100.png'></td></tr></table>"
      ],
      "text/plain": [
       "<IPython.core.display.HTML object>"
      ]
     },
     "metadata": {},
     "output_type": "display_data"
    },
    {
     "name": "stdout",
     "output_type": "stream",
     "text": [
      "three_gauss1000.png\n"
     ]
    },
    {
     "data": {
      "text/html": [
       "<table><tr><td><img src='files/Porownania/Classification/noisyXOR100.png'></td><td><img src='files/Porownania/Classification/noisyXOR1000.png'></td></tr></table>"
      ],
      "text/plain": [
       "<IPython.core.display.HTML object>"
      ]
     },
     "metadata": {},
     "output_type": "display_data"
    },
    {
     "name": "stdout",
     "output_type": "stream",
     "text": [
      "three_gauss10000loss.png\n"
     ]
    },
    {
     "data": {
      "text/html": [
       "<table><tr><td><img src='files/Porownania/Classification/noisyXOR1000.png'></td><td><img src='files/Porownania/Classification/noisyXOR10000.png'></td></tr></table>"
      ],
      "text/plain": [
       "<IPython.core.display.HTML object>"
      ]
     },
     "metadata": {},
     "output_type": "display_data"
    },
    {
     "name": "stdout",
     "output_type": "stream",
     "text": [
      "three_gauss100loss.png\n"
     ]
    },
    {
     "data": {
      "text/html": [
       "<table><tr><td><img src='files/Porownania/Classification/noisyXOR10000.png'></td><td><img src='files/Porownania/Classification/noisyXOR10000loss.png'></td></tr></table>"
      ],
      "text/plain": [
       "<IPython.core.display.HTML object>"
      ]
     },
     "metadata": {},
     "output_type": "display_data"
    }
   ],
   "source": [
    "from IPython.display import HTML, display\n",
    "\n",
    "for i in range(int(len(classification_files)/2)):\n",
    "    print(classification_files[2*i][len('files/Porownania/Classification/'):])\n",
    "    display(HTML(\"<table><tr><td><img src='\"+classification_files[i]+\"'></td><td><img src='\"+classification_files[i+1]+\"'></td></tr></table>\"))"
   ]
  },
  {
   "cell_type": "markdown",
   "metadata": {},
   "source": [
    "2. Wyniki - Regresja"
   ]
  },
  {
   "cell_type": "code",
   "execution_count": 39,
   "metadata": {},
   "outputs": [
    {
     "name": "stdout",
     "output_type": "stream",
     "text": [
      "activation100.png\n"
     ]
    },
    {
     "data": {
      "text/html": [
       "<table><tr><td><img src='files/Porownania/Regression/activation100.png'></td><td><img src='files/Porownania/Regression/activation1000.png'></td></tr></table>"
      ],
      "text/plain": [
       "<IPython.core.display.HTML object>"
      ]
     },
     "metadata": {},
     "output_type": "display_data"
    },
    {
     "name": "stdout",
     "output_type": "stream",
     "text": [
      "activation10000.png\n"
     ]
    },
    {
     "data": {
      "text/html": [
       "<table><tr><td><img src='files/Porownania/Regression/activation1000.png'></td><td><img src='files/Porownania/Regression/activation10000.png'></td></tr></table>"
      ],
      "text/plain": [
       "<IPython.core.display.HTML object>"
      ]
     },
     "metadata": {},
     "output_type": "display_data"
    },
    {
     "name": "stdout",
     "output_type": "stream",
     "text": [
      "activation1000loss.png\n"
     ]
    },
    {
     "data": {
      "text/html": [
       "<table><tr><td><img src='files/Porownania/Regression/activation10000.png'></td><td><img src='files/Porownania/Regression/activation10000loss.png'></td></tr></table>"
      ],
      "text/plain": [
       "<IPython.core.display.HTML object>"
      ]
     },
     "metadata": {},
     "output_type": "display_data"
    },
    {
     "name": "stdout",
     "output_type": "stream",
     "text": [
      "activation500.png\n"
     ]
    },
    {
     "data": {
      "text/html": [
       "<table><tr><td><img src='files/Porownania/Regression/activation10000loss.png'></td><td><img src='files/Porownania/Regression/activation1000loss.png'></td></tr></table>"
      ],
      "text/plain": [
       "<IPython.core.display.HTML object>"
      ]
     },
     "metadata": {},
     "output_type": "display_data"
    },
    {
     "name": "stdout",
     "output_type": "stream",
     "text": [
      "cube100.png\n"
     ]
    },
    {
     "data": {
      "text/html": [
       "<table><tr><td><img src='files/Porownania/Regression/activation1000loss.png'></td><td><img src='files/Porownania/Regression/activation100loss.png'></td></tr></table>"
      ],
      "text/plain": [
       "<IPython.core.display.HTML object>"
      ]
     },
     "metadata": {},
     "output_type": "display_data"
    },
    {
     "name": "stdout",
     "output_type": "stream",
     "text": [
      "cube500.png\n"
     ]
    },
    {
     "data": {
      "text/html": [
       "<table><tr><td><img src='files/Porownania/Regression/activation100loss.png'></td><td><img src='files/Porownania/Regression/activation500.png'></td></tr></table>"
      ],
      "text/plain": [
       "<IPython.core.display.HTML object>"
      ]
     },
     "metadata": {},
     "output_type": "display_data"
    },
    {
     "name": "stdout",
     "output_type": "stream",
     "text": [
      "linear100.png\n"
     ]
    },
    {
     "data": {
      "text/html": [
       "<table><tr><td><img src='files/Porownania/Regression/activation500.png'></td><td><img src='files/Porownania/Regression/activation500loss.png'></td></tr></table>"
      ],
      "text/plain": [
       "<IPython.core.display.HTML object>"
      ]
     },
     "metadata": {},
     "output_type": "display_data"
    },
    {
     "name": "stdout",
     "output_type": "stream",
     "text": [
      "linear10000.png\n"
     ]
    },
    {
     "data": {
      "text/html": [
       "<table><tr><td><img src='files/Porownania/Regression/activation500loss.png'></td><td><img src='files/Porownania/Regression/cube100.png'></td></tr></table>"
      ],
      "text/plain": [
       "<IPython.core.display.HTML object>"
      ]
     },
     "metadata": {},
     "output_type": "display_data"
    },
    {
     "name": "stdout",
     "output_type": "stream",
     "text": [
      "linear1000loss.png\n"
     ]
    },
    {
     "data": {
      "text/html": [
       "<table><tr><td><img src='files/Porownania/Regression/cube100.png'></td><td><img src='files/Porownania/Regression/cube100loss.png'></td></tr></table>"
      ],
      "text/plain": [
       "<IPython.core.display.HTML object>"
      ]
     },
     "metadata": {},
     "output_type": "display_data"
    },
    {
     "name": "stdout",
     "output_type": "stream",
     "text": [
      "linear500.png\n"
     ]
    },
    {
     "data": {
      "text/html": [
       "<table><tr><td><img src='files/Porownania/Regression/cube100loss.png'></td><td><img src='files/Porownania/Regression/cube500.png'></td></tr></table>"
      ],
      "text/plain": [
       "<IPython.core.display.HTML object>"
      ]
     },
     "metadata": {},
     "output_type": "display_data"
    },
    {
     "name": "stdout",
     "output_type": "stream",
     "text": [
      "multimodal100.png\n"
     ]
    },
    {
     "data": {
      "text/html": [
       "<table><tr><td><img src='files/Porownania/Regression/cube500.png'></td><td><img src='files/Porownania/Regression/cube500loss.png'></td></tr></table>"
      ],
      "text/plain": [
       "<IPython.core.display.HTML object>"
      ]
     },
     "metadata": {},
     "output_type": "display_data"
    },
    {
     "name": "stdout",
     "output_type": "stream",
     "text": [
      "multimodal1000loss.png\n"
     ]
    },
    {
     "data": {
      "text/html": [
       "<table><tr><td><img src='files/Porownania/Regression/cube500loss.png'></td><td><img src='files/Porownania/Regression/linear100.png'></td></tr></table>"
      ],
      "text/plain": [
       "<IPython.core.display.HTML object>"
      ]
     },
     "metadata": {},
     "output_type": "display_data"
    },
    {
     "name": "stdout",
     "output_type": "stream",
     "text": [
      "multimodal500.png\n"
     ]
    },
    {
     "data": {
      "text/html": [
       "<table><tr><td><img src='files/Porownania/Regression/linear100.png'></td><td><img src='files/Porownania/Regression/linear1000.png'></td></tr></table>"
      ],
      "text/plain": [
       "<IPython.core.display.HTML object>"
      ]
     },
     "metadata": {},
     "output_type": "display_data"
    },
    {
     "name": "stdout",
     "output_type": "stream",
     "text": [
      "porownanie.txt\n"
     ]
    },
    {
     "data": {
      "text/html": [
       "<table><tr><td><img src='files/Porownania/Regression/linear1000.png'></td><td><img src='files/Porownania/Regression/linear10000.png'></td></tr></table>"
      ],
      "text/plain": [
       "<IPython.core.display.HTML object>"
      ]
     },
     "metadata": {},
     "output_type": "display_data"
    },
    {
     "name": "stdout",
     "output_type": "stream",
     "text": [
      "square1000.png\n"
     ]
    },
    {
     "data": {
      "text/html": [
       "<table><tr><td><img src='files/Porownania/Regression/linear10000.png'></td><td><img src='files/Porownania/Regression/linear10000loss.png'></td></tr></table>"
      ],
      "text/plain": [
       "<IPython.core.display.HTML object>"
      ]
     },
     "metadata": {},
     "output_type": "display_data"
    },
    {
     "name": "stdout",
     "output_type": "stream",
     "text": [
      "square1000loss.png\n"
     ]
    },
    {
     "data": {
      "text/html": [
       "<table><tr><td><img src='files/Porownania/Regression/linear10000loss.png'></td><td><img src='files/Porownania/Regression/linear1000loss.png'></td></tr></table>"
      ],
      "text/plain": [
       "<IPython.core.display.HTML object>"
      ]
     },
     "metadata": {},
     "output_type": "display_data"
    },
    {
     "name": "stdout",
     "output_type": "stream",
     "text": [
      "square500.png\n"
     ]
    },
    {
     "data": {
      "text/html": [
       "<table><tr><td><img src='files/Porownania/Regression/linear1000loss.png'></td><td><img src='files/Porownania/Regression/linear100loss.png'></td></tr></table>"
      ],
      "text/plain": [
       "<IPython.core.display.HTML object>"
      ]
     },
     "metadata": {},
     "output_type": "display_data"
    }
   ],
   "source": [
    "from IPython.display import HTML, display\n",
    "\n",
    "for i in range(int(len(regression_files)/2)):\n",
    "    print(regression_files[2*i][len('files/Porownania/Regression/'):])\n",
    "    display(HTML(\"<table><tr><td><img src='\"+regression_files[i]+\"'></td><td><img src='\"+regression_files[i+1]+\"'></td></tr></table>\"))"
   ]
  }
 ],
 "metadata": {
  "kernelspec": {
   "display_name": "Python 3",
   "language": "python",
   "name": "python3"
  },
  "language_info": {
   "codemirror_mode": {
    "name": "ipython",
    "version": 3
   },
   "file_extension": ".py",
   "mimetype": "text/x-python",
   "name": "python",
   "nbconvert_exporter": "python",
   "pygments_lexer": "ipython3",
   "version": "3.7.1"
  }
 },
 "nbformat": 4,
 "nbformat_minor": 2
}
