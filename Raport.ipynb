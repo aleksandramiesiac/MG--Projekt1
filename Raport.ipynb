{
 "cells": [
  {
   "cell_type": "markdown",
   "metadata": {},
   "source": [
    "# Metody Głębokiego uczenia\n",
    "# Raport - Projekt 1\n",
    "\n",
    "* *Aleksandra Miesiąc*\n",
    "* *Agata Pałdyna* \n",
    "* *Katarzyna Spalińska*"
   ]
  },
  {
   "cell_type": "code",
   "execution_count": null,
   "metadata": {},
   "outputs": [],
   "source": [
    "@ TODO : \n",
    "    \n",
    "    RAPORT\n",
    "1) Wstęp (coś tam że ten raport dotyczy projektu zrealizowanego w ramach przedmiotu MGU, na czym polegał projekt, że został napisany pogram, co robi ten program, do czego służy)\n",
    "2) Opis programu (architektura, klasy, funkcje, plik konfiguracyjny, itp)\n",
    "        2.1) \n",
    "        2.2)\n",
    "    ...\n",
    "3) Przeprowadzone eksperymenty (wykresy itp)\n",
    "4) Wnioski"
   ]
  },
  {
   "cell_type": "markdown",
   "metadata": {},
   "source": [
    "# Opis pliku konfiguracyjnego:"
   ]
  },
  {
   "cell_type": "markdown",
   "metadata": {},
   "source": [
    "Parametry sieci oraz ustawienia programu można modyfikować za pomocą pliku configuration_file.txt, w którym dane zapisane są w postaci nazwa_parametru=wartość. Znajdują się w nim następujące pola:\n",
    "* *number_of_layers* – liczba ukrytych warstw; liczba naturalna\n",
    "* *layer_size* – rozmiar warstw (liczba neuronów w warstwie); liczba naturalna lub lista liczb naturalnych oddzielonych przecinkami (np. 3,5,2)\n",
    "* *activation_function* – nazwa funkcji aktywacji\n",
    "* *number_of_iterations* – liczba iteracji/epok; liczba naturalna\n",
    "* *learning_rate* – wartość współczynnika nauki; liczba rzeczywista dodatnia\n",
    "* *batch_size* – rozmiar batcha; liczba naturalna\n",
    "* *problem* – rodzaj problemu: klasyfikacja (classification) lub regresja (regression)\n",
    "* *set_name* – nazwa zbioru danych\n",
    "* *number_of_samples* – liczba próbek w zbiorze; liczba naturalna\n",
    "\n",
    "Uwagi: \n",
    "Zakładamy, że użytkownik podaje 'poprawne' wartości poszczególnych parametrów.\n",
    "Przez liczby naturalne rozumiemy liczby całkowite dodatnie, tj. zbiór {1, 2, 3, …}.\n",
    "\n",
    "Liczbę warstw i neuronów ukrytych w każdej warstwie można definiować na dwa sposoby.\n",
    "Sposób 1: gdy parametr *layer_size* podamy jako pojedynczą liczbę, wówczas każda z *number_of_layers* warstw zawiera *layer_size* neuronów.\n",
    "Sposób 2: gdy parametr *layer_size* podamy jako listę liczb oddzielonych przecinkami, wówczas i-ta warstwa zawiera *layer_size*[i] neuronów, a *number_of_layers* jest równe długości listy *layer_size*.\n",
    "\n",
    "Pola *set_name* i *number_of_samples* stanowią części nazwy wczytywanego zbioru danych (nazwy plików są postaci *data.set_name.train.number_of_samples.csv* dla zbiorów listę treningowych oraz *data.set_name.test.number_of_samples.csv* dla zbiorów testowych)."
   ]
  },
  {
   "cell_type": "markdown",
   "metadata": {},
   "source": [
    "# Opis architektury programu"
   ]
  },
  {
   "cell_type": "code",
   "execution_count": null,
   "metadata": {},
   "outputs": [],
   "source": []
  },
  {
   "cell_type": "markdown",
   "metadata": {},
   "source": [
    "# Wyniki przeprowadzonych eksperymentów:"
   ]
  },
  {
   "cell_type": "code",
   "execution_count": 33,
   "metadata": {},
   "outputs": [],
   "source": [
    "import os,glob\n",
    "\n",
    "rootdir = '/home/kasia/Pulpit/Studia/MGU/projekt1/MG--Projekt1/Porownania'\n",
    "\n",
    "classification_files = []\n",
    "regression_files = []\n",
    "\n",
    "# Klasyfikacja:\n",
    "for subdir, dirs, files in os.walk(rootdir+\"/Classification\"):\n",
    "    for directory in dirs:\n",
    "        if directory != None and not os.path.exists(directory):\n",
    "            os.mkdir(directory)\n",
    "    for file in sorted(files):\n",
    "        filename, ext = os.path.splitext(file)\n",
    "        if ext != '.txt':\n",
    "            classification_files.append('files/Porownania/Classification/'+file)\n",
    "        \n",
    "# Regresja\n",
    "for subdir, dirs, files in os.walk(rootdir+\"/Regression\"):\n",
    "    for directory in dirs:\n",
    "        if directory != None and not os.path.exists(directory):\n",
    "            os.mkdir(directory)\n",
    "    for file in sorted(files):\n",
    "        filename, _ = os.path.splitext(file)\n",
    "        regression_files.append('files/Porownania/Regression/'+file)"
   ]
  },
  {
   "cell_type": "markdown",
   "metadata": {},
   "source": [
    "1. Klasyfikacja"
   ]
  },
  {
   "cell_type": "code",
   "execution_count": 34,
   "metadata": {
    "scrolled": true
   },
   "outputs": [
    {
     "name": "stdout",
     "output_type": "stream",
     "text": [
      "XOR100.png\n"
     ]
    },
    {
     "data": {
      "text/html": [
       "<table><tr><td><img src='files/Porownania/Classification/XOR100.png'></td><td><img src='files/Porownania/Classification/XOR1000.png'></td></tr></table>"
      ],
      "text/plain": [
       "<IPython.core.display.HTML object>"
      ]
     },
     "metadata": {},
     "output_type": "display_data"
    },
    {
     "name": "stdout",
     "output_type": "stream",
     "text": [
      "XOR10000.png\n"
     ]
    },
    {
     "data": {
      "text/html": [
       "<table><tr><td><img src='files/Porownania/Classification/XOR1000.png'></td><td><img src='files/Porownania/Classification/XOR10000.png'></td></tr></table>"
      ],
      "text/plain": [
       "<IPython.core.display.HTML object>"
      ]
     },
     "metadata": {},
     "output_type": "display_data"
    },
    {
     "name": "stdout",
     "output_type": "stream",
     "text": [
      "XOR1000loss.png\n"
     ]
    },
    {
     "data": {
      "text/html": [
       "<table><tr><td><img src='files/Porownania/Classification/XOR10000.png'></td><td><img src='files/Porownania/Classification/XOR10000loss.png'></td></tr></table>"
      ],
      "text/plain": [
       "<IPython.core.display.HTML object>"
      ]
     },
     "metadata": {},
     "output_type": "display_data"
    },
    {
     "name": "stdout",
     "output_type": "stream",
     "text": [
      "XOR100result.png\n"
     ]
    },
    {
     "data": {
      "text/html": [
       "<table><tr><td><img src='files/Porownania/Classification/XOR10000loss.png'></td><td><img src='files/Porownania/Classification/XOR1000loss.png'></td></tr></table>"
      ],
      "text/plain": [
       "<IPython.core.display.HTML object>"
      ]
     },
     "metadata": {},
     "output_type": "display_data"
    },
    {
     "name": "stdout",
     "output_type": "stream",
     "text": [
      "XOR500loss.png\n"
     ]
    },
    {
     "data": {
      "text/html": [
       "<table><tr><td><img src='files/Porownania/Classification/XOR1000loss.png'></td><td><img src='files/Porownania/Classification/XOR100loss.png'></td></tr></table>"
      ],
      "text/plain": [
       "<IPython.core.display.HTML object>"
      ]
     },
     "metadata": {},
     "output_type": "display_data"
    },
    {
     "name": "stdout",
     "output_type": "stream",
     "text": [
      "circles1000.png\n"
     ]
    },
    {
     "data": {
      "text/html": [
       "<table><tr><td><img src='files/Porownania/Classification/XOR100loss.png'></td><td><img src='files/Porownania/Classification/XOR100result.png'></td></tr></table>"
      ],
      "text/plain": [
       "<IPython.core.display.HTML object>"
      ]
     },
     "metadata": {},
     "output_type": "display_data"
    },
    {
     "name": "stdout",
     "output_type": "stream",
     "text": [
      "circles10000loss.png\n"
     ]
    },
    {
     "data": {
      "text/html": [
       "<table><tr><td><img src='files/Porownania/Classification/XOR100result.png'></td><td><img src='files/Porownania/Classification/XOR500.png'></td></tr></table>"
      ],
      "text/plain": [
       "<IPython.core.display.HTML object>"
      ]
     },
     "metadata": {},
     "output_type": "display_data"
    },
    {
     "name": "stdout",
     "output_type": "stream",
     "text": [
      "circles100loss.png\n"
     ]
    },
    {
     "data": {
      "text/html": [
       "<table><tr><td><img src='files/Porownania/Classification/XOR500.png'></td><td><img src='files/Porownania/Classification/XOR500loss.png'></td></tr></table>"
      ],
      "text/plain": [
       "<IPython.core.display.HTML object>"
      ]
     },
     "metadata": {},
     "output_type": "display_data"
    },
    {
     "name": "stdout",
     "output_type": "stream",
     "text": [
      "circles500loss.png\n"
     ]
    },
    {
     "data": {
      "text/html": [
       "<table><tr><td><img src='files/Porownania/Classification/XOR500loss.png'></td><td><img src='files/Porownania/Classification/circles100.png'></td></tr></table>"
      ],
      "text/plain": [
       "<IPython.core.display.HTML object>"
      ]
     },
     "metadata": {},
     "output_type": "display_data"
    },
    {
     "name": "stdout",
     "output_type": "stream",
     "text": [
      "noisyXOR1000.png\n"
     ]
    },
    {
     "data": {
      "text/html": [
       "<table><tr><td><img src='files/Porownania/Classification/circles100.png'></td><td><img src='files/Porownania/Classification/circles1000.png'></td></tr></table>"
      ],
      "text/plain": [
       "<IPython.core.display.HTML object>"
      ]
     },
     "metadata": {},
     "output_type": "display_data"
    },
    {
     "name": "stdout",
     "output_type": "stream",
     "text": [
      "noisyXOR10000loss.png\n"
     ]
    },
    {
     "data": {
      "text/html": [
       "<table><tr><td><img src='files/Porownania/Classification/circles1000.png'></td><td><img src='files/Porownania/Classification/circles10000.png'></td></tr></table>"
      ],
      "text/plain": [
       "<IPython.core.display.HTML object>"
      ]
     },
     "metadata": {},
     "output_type": "display_data"
    },
    {
     "name": "stdout",
     "output_type": "stream",
     "text": [
      "noisyXOR100loss.png\n"
     ]
    },
    {
     "data": {
      "text/html": [
       "<table><tr><td><img src='files/Porownania/Classification/circles10000.png'></td><td><img src='files/Porownania/Classification/circles10000loss.png'></td></tr></table>"
      ],
      "text/plain": [
       "<IPython.core.display.HTML object>"
      ]
     },
     "metadata": {},
     "output_type": "display_data"
    },
    {
     "name": "stdout",
     "output_type": "stream",
     "text": [
      "noisyXOR500loss.png\n"
     ]
    },
    {
     "data": {
      "text/html": [
       "<table><tr><td><img src='files/Porownania/Classification/circles10000loss.png'></td><td><img src='files/Porownania/Classification/circles1000loss.png'></td></tr></table>"
      ],
      "text/plain": [
       "<IPython.core.display.HTML object>"
      ]
     },
     "metadata": {},
     "output_type": "display_data"
    },
    {
     "name": "stdout",
     "output_type": "stream",
     "text": [
      "simple1000.png\n"
     ]
    },
    {
     "data": {
      "text/html": [
       "<table><tr><td><img src='files/Porownania/Classification/circles1000loss.png'></td><td><img src='files/Porownania/Classification/circles100loss.png'></td></tr></table>"
      ],
      "text/plain": [
       "<IPython.core.display.HTML object>"
      ]
     },
     "metadata": {},
     "output_type": "display_data"
    },
    {
     "name": "stdout",
     "output_type": "stream",
     "text": [
      "simple10000loss.png\n"
     ]
    },
    {
     "data": {
      "text/html": [
       "<table><tr><td><img src='files/Porownania/Classification/circles100loss.png'></td><td><img src='files/Porownania/Classification/circles500.png'></td></tr></table>"
      ],
      "text/plain": [
       "<IPython.core.display.HTML object>"
      ]
     },
     "metadata": {},
     "output_type": "display_data"
    },
    {
     "name": "stdout",
     "output_type": "stream",
     "text": [
      "simple100loss.png\n"
     ]
    },
    {
     "data": {
      "text/html": [
       "<table><tr><td><img src='files/Porownania/Classification/circles500.png'></td><td><img src='files/Porownania/Classification/circles500loss.png'></td></tr></table>"
      ],
      "text/plain": [
       "<IPython.core.display.HTML object>"
      ]
     },
     "metadata": {},
     "output_type": "display_data"
    },
    {
     "name": "stdout",
     "output_type": "stream",
     "text": [
      "simple500loss.png\n"
     ]
    },
    {
     "data": {
      "text/html": [
       "<table><tr><td><img src='files/Porownania/Classification/circles500loss.png'></td><td><img src='files/Porownania/Classification/noisyXOR100.png'></td></tr></table>"
      ],
      "text/plain": [
       "<IPython.core.display.HTML object>"
      ]
     },
     "metadata": {},
     "output_type": "display_data"
    },
    {
     "name": "stdout",
     "output_type": "stream",
     "text": [
      "three_gauss1000.png\n"
     ]
    },
    {
     "data": {
      "text/html": [
       "<table><tr><td><img src='files/Porownania/Classification/noisyXOR100.png'></td><td><img src='files/Porownania/Classification/noisyXOR1000.png'></td></tr></table>"
      ],
      "text/plain": [
       "<IPython.core.display.HTML object>"
      ]
     },
     "metadata": {},
     "output_type": "display_data"
    },
    {
     "name": "stdout",
     "output_type": "stream",
     "text": [
      "three_gauss10000loss.png\n"
     ]
    },
    {
     "data": {
      "text/html": [
       "<table><tr><td><img src='files/Porownania/Classification/noisyXOR1000.png'></td><td><img src='files/Porownania/Classification/noisyXOR10000.png'></td></tr></table>"
      ],
      "text/plain": [
       "<IPython.core.display.HTML object>"
      ]
     },
     "metadata": {},
     "output_type": "display_data"
    },
    {
     "name": "stdout",
     "output_type": "stream",
     "text": [
      "three_gauss100loss.png\n"
     ]
    },
    {
     "data": {
      "text/html": [
       "<table><tr><td><img src='files/Porownania/Classification/noisyXOR10000.png'></td><td><img src='files/Porownania/Classification/noisyXOR10000loss.png'></td></tr></table>"
      ],
      "text/plain": [
       "<IPython.core.display.HTML object>"
      ]
     },
     "metadata": {},
     "output_type": "display_data"
    }
   ],
   "source": [
    "from IPython.display import HTML, display\n",
    "\n",
    "for i in range(int(len(classification_files)/2)):\n",
    "    print(classification_files[2*i][len('files/Porownania/Classification/'):])\n",
    "    display(HTML(\"<table><tr><td><img src='\"+classification_files[i]+\"'></td><td><img src='\"+classification_files[i+1]+\"'></td></tr></table>\"))"
   ]
  },
  {
   "cell_type": "markdown",
   "metadata": {},
   "source": [
    "2. Regresja"
   ]
  },
  {
   "cell_type": "code",
   "execution_count": 39,
   "metadata": {},
   "outputs": [
    {
     "name": "stdout",
     "output_type": "stream",
     "text": [
      "activation100.png\n"
     ]
    },
    {
     "data": {
      "text/html": [
       "<table><tr><td><img src='files/Porownania/Regression/activation100.png'></td><td><img src='files/Porownania/Regression/activation1000.png'></td></tr></table>"
      ],
      "text/plain": [
       "<IPython.core.display.HTML object>"
      ]
     },
     "metadata": {},
     "output_type": "display_data"
    },
    {
     "name": "stdout",
     "output_type": "stream",
     "text": [
      "activation10000.png\n"
     ]
    },
    {
     "data": {
      "text/html": [
       "<table><tr><td><img src='files/Porownania/Regression/activation1000.png'></td><td><img src='files/Porownania/Regression/activation10000.png'></td></tr></table>"
      ],
      "text/plain": [
       "<IPython.core.display.HTML object>"
      ]
     },
     "metadata": {},
     "output_type": "display_data"
    },
    {
     "name": "stdout",
     "output_type": "stream",
     "text": [
      "activation1000loss.png\n"
     ]
    },
    {
     "data": {
      "text/html": [
       "<table><tr><td><img src='files/Porownania/Regression/activation10000.png'></td><td><img src='files/Porownania/Regression/activation10000loss.png'></td></tr></table>"
      ],
      "text/plain": [
       "<IPython.core.display.HTML object>"
      ]
     },
     "metadata": {},
     "output_type": "display_data"
    },
    {
     "name": "stdout",
     "output_type": "stream",
     "text": [
      "activation500.png\n"
     ]
    },
    {
     "data": {
      "text/html": [
       "<table><tr><td><img src='files/Porownania/Regression/activation10000loss.png'></td><td><img src='files/Porownania/Regression/activation1000loss.png'></td></tr></table>"
      ],
      "text/plain": [
       "<IPython.core.display.HTML object>"
      ]
     },
     "metadata": {},
     "output_type": "display_data"
    },
    {
     "name": "stdout",
     "output_type": "stream",
     "text": [
      "cube100.png\n"
     ]
    },
    {
     "data": {
      "text/html": [
       "<table><tr><td><img src='files/Porownania/Regression/activation1000loss.png'></td><td><img src='files/Porownania/Regression/activation100loss.png'></td></tr></table>"
      ],
      "text/plain": [
       "<IPython.core.display.HTML object>"
      ]
     },
     "metadata": {},
     "output_type": "display_data"
    },
    {
     "name": "stdout",
     "output_type": "stream",
     "text": [
      "cube500.png\n"
     ]
    },
    {
     "data": {
      "text/html": [
       "<table><tr><td><img src='files/Porownania/Regression/activation100loss.png'></td><td><img src='files/Porownania/Regression/activation500.png'></td></tr></table>"
      ],
      "text/plain": [
       "<IPython.core.display.HTML object>"
      ]
     },
     "metadata": {},
     "output_type": "display_data"
    },
    {
     "name": "stdout",
     "output_type": "stream",
     "text": [
      "linear100.png\n"
     ]
    },
    {
     "data": {
      "text/html": [
       "<table><tr><td><img src='files/Porownania/Regression/activation500.png'></td><td><img src='files/Porownania/Regression/activation500loss.png'></td></tr></table>"
      ],
      "text/plain": [
       "<IPython.core.display.HTML object>"
      ]
     },
     "metadata": {},
     "output_type": "display_data"
    },
    {
     "name": "stdout",
     "output_type": "stream",
     "text": [
      "linear10000.png\n"
     ]
    },
    {
     "data": {
      "text/html": [
       "<table><tr><td><img src='files/Porownania/Regression/activation500loss.png'></td><td><img src='files/Porownania/Regression/cube100.png'></td></tr></table>"
      ],
      "text/plain": [
       "<IPython.core.display.HTML object>"
      ]
     },
     "metadata": {},
     "output_type": "display_data"
    },
    {
     "name": "stdout",
     "output_type": "stream",
     "text": [
      "linear1000loss.png\n"
     ]
    },
    {
     "data": {
      "text/html": [
       "<table><tr><td><img src='files/Porownania/Regression/cube100.png'></td><td><img src='files/Porownania/Regression/cube100loss.png'></td></tr></table>"
      ],
      "text/plain": [
       "<IPython.core.display.HTML object>"
      ]
     },
     "metadata": {},
     "output_type": "display_data"
    },
    {
     "name": "stdout",
     "output_type": "stream",
     "text": [
      "linear500.png\n"
     ]
    },
    {
     "data": {
      "text/html": [
       "<table><tr><td><img src='files/Porownania/Regression/cube100loss.png'></td><td><img src='files/Porownania/Regression/cube500.png'></td></tr></table>"
      ],
      "text/plain": [
       "<IPython.core.display.HTML object>"
      ]
     },
     "metadata": {},
     "output_type": "display_data"
    },
    {
     "name": "stdout",
     "output_type": "stream",
     "text": [
      "multimodal100.png\n"
     ]
    },
    {
     "data": {
      "text/html": [
       "<table><tr><td><img src='files/Porownania/Regression/cube500.png'></td><td><img src='files/Porownania/Regression/cube500loss.png'></td></tr></table>"
      ],
      "text/plain": [
       "<IPython.core.display.HTML object>"
      ]
     },
     "metadata": {},
     "output_type": "display_data"
    },
    {
     "name": "stdout",
     "output_type": "stream",
     "text": [
      "multimodal1000loss.png\n"
     ]
    },
    {
     "data": {
      "text/html": [
       "<table><tr><td><img src='files/Porownania/Regression/cube500loss.png'></td><td><img src='files/Porownania/Regression/linear100.png'></td></tr></table>"
      ],
      "text/plain": [
       "<IPython.core.display.HTML object>"
      ]
     },
     "metadata": {},
     "output_type": "display_data"
    },
    {
     "name": "stdout",
     "output_type": "stream",
     "text": [
      "multimodal500.png\n"
     ]
    },
    {
     "data": {
      "text/html": [
       "<table><tr><td><img src='files/Porownania/Regression/linear100.png'></td><td><img src='files/Porownania/Regression/linear1000.png'></td></tr></table>"
      ],
      "text/plain": [
       "<IPython.core.display.HTML object>"
      ]
     },
     "metadata": {},
     "output_type": "display_data"
    },
    {
     "name": "stdout",
     "output_type": "stream",
     "text": [
      "porownanie.txt\n"
     ]
    },
    {
     "data": {
      "text/html": [
       "<table><tr><td><img src='files/Porownania/Regression/linear1000.png'></td><td><img src='files/Porownania/Regression/linear10000.png'></td></tr></table>"
      ],
      "text/plain": [
       "<IPython.core.display.HTML object>"
      ]
     },
     "metadata": {},
     "output_type": "display_data"
    },
    {
     "name": "stdout",
     "output_type": "stream",
     "text": [
      "square1000.png\n"
     ]
    },
    {
     "data": {
      "text/html": [
       "<table><tr><td><img src='files/Porownania/Regression/linear10000.png'></td><td><img src='files/Porownania/Regression/linear10000loss.png'></td></tr></table>"
      ],
      "text/plain": [
       "<IPython.core.display.HTML object>"
      ]
     },
     "metadata": {},
     "output_type": "display_data"
    },
    {
     "name": "stdout",
     "output_type": "stream",
     "text": [
      "square1000loss.png\n"
     ]
    },
    {
     "data": {
      "text/html": [
       "<table><tr><td><img src='files/Porownania/Regression/linear10000loss.png'></td><td><img src='files/Porownania/Regression/linear1000loss.png'></td></tr></table>"
      ],
      "text/plain": [
       "<IPython.core.display.HTML object>"
      ]
     },
     "metadata": {},
     "output_type": "display_data"
    },
    {
     "name": "stdout",
     "output_type": "stream",
     "text": [
      "square500.png\n"
     ]
    },
    {
     "data": {
      "text/html": [
       "<table><tr><td><img src='files/Porownania/Regression/linear1000loss.png'></td><td><img src='files/Porownania/Regression/linear100loss.png'></td></tr></table>"
      ],
      "text/plain": [
       "<IPython.core.display.HTML object>"
      ]
     },
     "metadata": {},
     "output_type": "display_data"
    }
   ],
   "source": [
    "from IPython.display import HTML, display\n",
    "\n",
    "for i in range(int(len(regression_files)/2)):\n",
    "    print(regression_files[2*i][len('files/Porownania/Regression/'):])\n",
    "    display(HTML(\"<table><tr><td><img src='\"+regression_files[i]+\"'></td><td><img src='\"+regression_files[i+1]+\"'></td></tr></table>\"))"
   ]
  },
  {
   "cell_type": "code",
   "execution_count": null,
   "metadata": {},
   "outputs": [],
   "source": []
  }
 ],
 "metadata": {
  "kernelspec": {
   "display_name": "Python 3",
   "language": "python",
   "name": "python3"
  },
  "language_info": {
   "codemirror_mode": {
    "name": "ipython",
    "version": 3
   },
   "file_extension": ".py",
   "mimetype": "text/x-python",
   "name": "python",
   "nbconvert_exporter": "python",
   "pygments_lexer": "ipython3",
   "version": "3.7.1"
  }
 },
 "nbformat": 4,
 "nbformat_minor": 2
}
