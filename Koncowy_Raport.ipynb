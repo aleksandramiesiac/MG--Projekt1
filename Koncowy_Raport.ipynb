{
 "cells": [
  {
   "cell_type": "markdown",
   "metadata": {},
   "source": [
    "# Metody Głębokiego uczenia\n",
    "# Raport - Projekt 1\n",
    "\n",
    "* *Aleksandra Miesiąc*\n",
    "* *Agata Pałdyna* \n",
    "* *Katarzyna Spalińska*"
   ]
  },
  {
   "cell_type": "markdown",
   "metadata": {},
   "source": [
    "# Opis architektury programu"
   ]
  },
  {
   "cell_type": "markdown",
   "metadata": {},
   "source": [
    "Program składa się z kilku modułów oraz pliku konfiguracyjnego, służącego do ustalenia parametrów sieci, opisanego w kolejnym punkcie raportu. \n",
    "\n",
    "__Plik *activation_functions.py*__ zawiera implementacje 11 różnych funkcji aktywacji wraz z ich pochodnymi, tak aby można było swobodnie zmieniać ten parametr sieci. Zadana w pliku konfiguracyjnym funkcja aktywacji jest przypisana wszystkim neuronom wewnątrz sieci w przypadku problemu klasyfikacji, zaś wszystkim neuronom warstw ukrytych w przypadku problemu regresji (neurony warstwy wejściowej i wyjściowej mają funkcję aktywacji \"ReLU\").\n",
    "\n",
    "\n",
    "__Plik *neural_network.py*__ zawiera implementacje dwóch klas: NeuralNetwork oraz Layer.\n",
    "\n",
    "__Klasa Layer__\n",
    "Implementuje obiekt \"warstwa\", której atrybutami są:\n",
    "* rozmiar warstwy\n",
    "* wektor wag (podczas tworzenia generowany losowo)\n",
    "* wektor wartości neuronów (podczas tworzenia pusty)\n",
    "\n",
    "__Klasa NeuralNetwork__\n",
    "Implementuje obiekt \"sieć neuronowa\", której atrybutami są:\n",
    "* *input_vector* - wektor wejściowy sieci\n",
    "* *output_vector* - wektor wyjściowy, obliczony przez sieć\n",
    "* *output* - oczekiwane wyjście sieci\n",
    "* *layers* - wektor warstw (obiektów typu Layer)\n",
    "* *number_of_layers* - liczba warstw (z pliku konfiguracyjnego)\n",
    "* *layer_size* - liczba neuronów w warstwie (z pliku konfiguracyjnego)\n",
    "* *activation_function* - funkcja aktywacji (z pliku konfiguracyjnego)\n",
    "* *learning_rate* - współczynnik uczenia (z pliku konfiguracyjnego)\n",
    "* *problem* - rodzaj problemu, dla którego sieć będzie trenowana (z pliku konfiguracyjnego)\n",
    "* *number_of_samples*\n",
    "\n",
    "Zawiera funkcje:\n",
    "* *add_layers()* - budującą strukturę sieci. Tworzy odpowiednie obiekty klasy Layer i umieszcza je w wektorze warstw.\n",
    "* *backpropagation()* - funkcja implementująca algorytm propagacji wstecznej\n",
    "* *loss_function()* - funkcja obliczająca błąd sieci według wzoru: (norm(y' - y))^2\n",
    "* *feedforward()* - funkcja implementująca algorytm przechodzenia przez sieć od wejścia do wyjścia\n",
    "* *argmax_output()* - funkcja która transformuje macierzowe wyjście sieci, zakodowane metodą 'one-hot encoding', na pojedynczy wektor o wartościach takich jak klasy w wektorze oczekiwanego wyjścia sieci (wybierając klasę o największym prawdopodobieństwie)\n",
    "* *train()* - funkcja trenowania sieci, w której wywołane są raz, kolejno: *feedforward()*, *backpropagation()*\n",
    "* *predict()* - funkcja implementująca predykcję na nauczonej sieci, wywołująca raz funkcję *feedforward()* i zwracająca wektor wyjściowy sieci (dla problemu regresji) oraz przerobiony funkcją *argmax_output* wektor wyjściowy sieci dla problemu klasyfikacji.\n",
    "* evaluate()* - funkcja obliczająca procent poprawnych odpowiedzi sieci\n",
    "\n",
    "__Plik *main.py*__\n",
    "\n",
    "W pliku main.py następuje kolejno:\n",
    "* wczytanie pliku konfiguracyjnego\n",
    "* wczytanie plików ze zbiorami treningowymi i testowymi\n",
    "* podzielenie zbiorów danych na podzbiory train_X, train_y, test_X, test_y\n",
    "* podzielenie zbiorów danych na podzbiory (*batch*)\n",
    "* utworzenie sieci neuronowej zgodnie z plikiem konfiguracyjnym\n",
    "* iteracyjne trenowanie sieci\n",
    "* ewaluacja wyników wraz z wygenerowaniem wykresów"
   ]
  },
  {
   "cell_type": "markdown",
   "metadata": {},
   "source": [
    "# Opis pliku konfiguracyjnego:"
   ]
  },
  {
   "cell_type": "markdown",
   "metadata": {},
   "source": [
    "Parametry sieci oraz ustawienia programu można modyfikować za pomocą pliku configuration_file.txt, w którym dane zapisane są w postaci nazwa_parametru=wartość. Znajdują się w nim następujące pola:\n",
    "* *number_of_layers* – liczba ukrytych warstw; liczba naturalna\n",
    "* *layer_size* – rozmiar warstw (liczba neuronów w warstwie); liczba naturalna lub lista liczb naturalnych oddzielonych przecinkami (np. 3,5,2)\n",
    "* *activation_function* – nazwa funkcji aktywacji\n",
    "* *number_of_iterations* – liczba iteracji/epok; liczba naturalna\n",
    "* *learning_rate* – wartość współczynnika nauki; liczba rzeczywista dodatnia\n",
    "* *batch_size* – rozmiar batcha; liczba naturalna\n",
    "* *problem* – rodzaj problemu: klasyfikacja (classification) lub regresja (regression)\n",
    "* *set_name* – nazwa zbioru danych\n",
    "* *number_of_samples* – liczba próbek w zbiorze; liczba naturalna\n",
    "\n",
    "Uwagi: \n",
    "Zakładamy, że użytkownik podaje 'poprawne' wartości poszczególnych parametrów.\n",
    "Przez liczby naturalne rozumiemy liczby całkowite dodatnie, tj. zbiór {1, 2, 3, …}.\n",
    "\n",
    "Liczbę warstw i neuronów ukrytych w każdej warstwie można definiować na dwa sposoby.\n",
    "Sposób 1: gdy parametr *layer_size* podamy jako pojedynczą liczbę, wówczas każda z *number_of_layers* warstw zawiera *layer_size* neuronów.\n",
    "Sposób 2: gdy parametr *layer_size* podamy jako listę liczb oddzielonych przecinkami, wówczas i-ta warstwa zawiera *layer_size*[i] neuronów, a *number_of_layers* jest równe długości listy *layer_size*.\n",
    "\n",
    "Pola *set_name* i *number_of_samples* stanowią części nazwy wczytywanego zbioru danych (nazwy plików są postaci *data.set_name.train.number_of_samples.csv* dla zbiorów listę treningowych oraz *data.set_name.test.number_of_samples.csv* dla zbiorów testowych)."
   ]
  },
  {
   "cell_type": "markdown",
   "metadata": {},
   "source": [
    "# Wyniki przeprowadzonych eksperymentów:"
   ]
  },
  {
   "cell_type": "markdown",
   "metadata": {},
   "source": [
    "Wczytanie plików png, zawierających wykresy przedstawiające wyniki działania sieci:"
   ]
  },
  {
   "cell_type": "code",
   "execution_count": 25,
   "metadata": {},
   "outputs": [],
   "source": [
    "import os,glob\n",
    "\n",
    "rootdir = '/home/kasia/Pulpit/temp2/MG--Projekt1-770a75379d25dd5aa4ef38d6b7f27d9d6e5eb4b3/Porownania'\n",
    "\n",
    "classification_files = []\n",
    "regression_files = []\n",
    "\n",
    "# Klasyfikacja:\n",
    "for subdir, dirs, files in os.walk(rootdir+\"/Classification\"):\n",
    "    for directory in dirs:\n",
    "        if directory != None and not os.path.exists(directory):\n",
    "            os.mkdir(directory)\n",
    "    for file in sorted(files):\n",
    "        filename, ext = os.path.splitext(file)\n",
    "        if ext != '.txt':\n",
    "            classification_files.append('files/Porownania/Classification/'+file)\n",
    "        \n",
    "# Regresja\n",
    "for subdir, dirs, files in os.walk(rootdir+\"/Regression\"):\n",
    "    for directory in dirs:\n",
    "        if directory != None and not os.path.exists(directory):\n",
    "            os.mkdir(directory)\n",
    "    for file in sorted(files):\n",
    "        filename, _ = os.path.splitext(file)\n",
    "        if ext != '.txt':\n",
    "            regression_files.append('files/Porownania/Regression/'+file)"
   ]
  },
  {
   "cell_type": "markdown",
   "metadata": {},
   "source": [
    "1. Wyniki - Klasyfikacja"
   ]
  },
  {
   "cell_type": "code",
   "execution_count": 18,
   "metadata": {
    "scrolled": false
   },
   "outputs": [
    {
     "name": "stdout",
     "output_type": "stream",
     "text": [
      "XOR10000compare.png\n"
     ]
    },
    {
     "data": {
      "text/html": [
       "<table><tr><td><img src='files/Porownania/Classification/XOR10000compare.png'></td><td><img src='files/Porownania/Classification/XOR10000loss.png'></td></tr></table>"
      ],
      "text/plain": [
       "<IPython.core.display.HTML object>"
      ]
     },
     "metadata": {},
     "output_type": "display_data"
    },
    {
     "name": "stdout",
     "output_type": "stream",
     "text": [
      "XOR1000compare.png\n"
     ]
    },
    {
     "data": {
      "text/html": [
       "<table><tr><td><img src='files/Porownania/Classification/XOR1000compare.png'></td><td><img src='files/Porownania/Classification/XOR1000loss.png'></td></tr></table>"
      ],
      "text/plain": [
       "<IPython.core.display.HTML object>"
      ]
     },
     "metadata": {},
     "output_type": "display_data"
    },
    {
     "name": "stdout",
     "output_type": "stream",
     "text": [
      "XOR100compare.png\n"
     ]
    },
    {
     "data": {
      "text/html": [
       "<table><tr><td><img src='files/Porownania/Classification/XOR100compare.png'></td><td><img src='files/Porownania/Classification/XOR100loss.png'></td></tr></table>"
      ],
      "text/plain": [
       "<IPython.core.display.HTML object>"
      ]
     },
     "metadata": {},
     "output_type": "display_data"
    },
    {
     "name": "stdout",
     "output_type": "stream",
     "text": [
      "XOR500compare.png\n"
     ]
    },
    {
     "data": {
      "text/html": [
       "<table><tr><td><img src='files/Porownania/Classification/XOR500compare.png'></td><td><img src='files/Porownania/Classification/XOR500loss.png'></td></tr></table>"
      ],
      "text/plain": [
       "<IPython.core.display.HTML object>"
      ]
     },
     "metadata": {},
     "output_type": "display_data"
    },
    {
     "name": "stdout",
     "output_type": "stream",
     "text": [
      "circles10000compare.png\n"
     ]
    },
    {
     "data": {
      "text/html": [
       "<table><tr><td><img src='files/Porownania/Classification/circles10000compare.png'></td><td><img src='files/Porownania/Classification/circles10000loss.png'></td></tr></table>"
      ],
      "text/plain": [
       "<IPython.core.display.HTML object>"
      ]
     },
     "metadata": {},
     "output_type": "display_data"
    },
    {
     "name": "stdout",
     "output_type": "stream",
     "text": [
      "circles1000compare.png\n"
     ]
    },
    {
     "data": {
      "text/html": [
       "<table><tr><td><img src='files/Porownania/Classification/circles1000compare.png'></td><td><img src='files/Porownania/Classification/circles1000loss.png'></td></tr></table>"
      ],
      "text/plain": [
       "<IPython.core.display.HTML object>"
      ]
     },
     "metadata": {},
     "output_type": "display_data"
    },
    {
     "name": "stdout",
     "output_type": "stream",
     "text": [
      "circles100compare.png\n"
     ]
    },
    {
     "data": {
      "text/html": [
       "<table><tr><td><img src='files/Porownania/Classification/circles100compare.png'></td><td><img src='files/Porownania/Classification/circles100loss.png'></td></tr></table>"
      ],
      "text/plain": [
       "<IPython.core.display.HTML object>"
      ]
     },
     "metadata": {},
     "output_type": "display_data"
    },
    {
     "name": "stdout",
     "output_type": "stream",
     "text": [
      "circles500compare.png\n"
     ]
    },
    {
     "data": {
      "text/html": [
       "<table><tr><td><img src='files/Porownania/Classification/circles500compare.png'></td><td><img src='files/Porownania/Classification/circles500loss.png'></td></tr></table>"
      ],
      "text/plain": [
       "<IPython.core.display.HTML object>"
      ]
     },
     "metadata": {},
     "output_type": "display_data"
    },
    {
     "name": "stdout",
     "output_type": "stream",
     "text": [
      "noisyXOR10000compare.png\n"
     ]
    },
    {
     "data": {
      "text/html": [
       "<table><tr><td><img src='files/Porownania/Classification/noisyXOR10000compare.png'></td><td><img src='files/Porownania/Classification/noisyXOR10000loss.png'></td></tr></table>"
      ],
      "text/plain": [
       "<IPython.core.display.HTML object>"
      ]
     },
     "metadata": {},
     "output_type": "display_data"
    },
    {
     "name": "stdout",
     "output_type": "stream",
     "text": [
      "noisyXOR1000compare.png\n"
     ]
    },
    {
     "data": {
      "text/html": [
       "<table><tr><td><img src='files/Porownania/Classification/noisyXOR1000compare.png'></td><td><img src='files/Porownania/Classification/noisyXOR1000loss.png'></td></tr></table>"
      ],
      "text/plain": [
       "<IPython.core.display.HTML object>"
      ]
     },
     "metadata": {},
     "output_type": "display_data"
    },
    {
     "name": "stdout",
     "output_type": "stream",
     "text": [
      "noisyXOR100compare.png\n"
     ]
    },
    {
     "data": {
      "text/html": [
       "<table><tr><td><img src='files/Porownania/Classification/noisyXOR100compare.png'></td><td><img src='files/Porownania/Classification/noisyXOR100loss.png'></td></tr></table>"
      ],
      "text/plain": [
       "<IPython.core.display.HTML object>"
      ]
     },
     "metadata": {},
     "output_type": "display_data"
    },
    {
     "name": "stdout",
     "output_type": "stream",
     "text": [
      "noisyXOR500compare.png\n"
     ]
    },
    {
     "data": {
      "text/html": [
       "<table><tr><td><img src='files/Porownania/Classification/noisyXOR500compare.png'></td><td><img src='files/Porownania/Classification/noisyXOR500loss.png'></td></tr></table>"
      ],
      "text/plain": [
       "<IPython.core.display.HTML object>"
      ]
     },
     "metadata": {},
     "output_type": "display_data"
    },
    {
     "name": "stdout",
     "output_type": "stream",
     "text": [
      "simple10000compare.png\n"
     ]
    },
    {
     "data": {
      "text/html": [
       "<table><tr><td><img src='files/Porownania/Classification/simple10000compare.png'></td><td><img src='files/Porownania/Classification/simple10000loss.png'></td></tr></table>"
      ],
      "text/plain": [
       "<IPython.core.display.HTML object>"
      ]
     },
     "metadata": {},
     "output_type": "display_data"
    },
    {
     "name": "stdout",
     "output_type": "stream",
     "text": [
      "simple1000compare.png\n"
     ]
    },
    {
     "data": {
      "text/html": [
       "<table><tr><td><img src='files/Porownania/Classification/simple1000compare.png'></td><td><img src='files/Porownania/Classification/simple1000loss.png'></td></tr></table>"
      ],
      "text/plain": [
       "<IPython.core.display.HTML object>"
      ]
     },
     "metadata": {},
     "output_type": "display_data"
    },
    {
     "name": "stdout",
     "output_type": "stream",
     "text": [
      "simple100compare.png\n"
     ]
    },
    {
     "data": {
      "text/html": [
       "<table><tr><td><img src='files/Porownania/Classification/simple100compare.png'></td><td><img src='files/Porownania/Classification/simple100loss.png'></td></tr></table>"
      ],
      "text/plain": [
       "<IPython.core.display.HTML object>"
      ]
     },
     "metadata": {},
     "output_type": "display_data"
    },
    {
     "name": "stdout",
     "output_type": "stream",
     "text": [
      "simple500compare.png\n"
     ]
    },
    {
     "data": {
      "text/html": [
       "<table><tr><td><img src='files/Porownania/Classification/simple500compare.png'></td><td><img src='files/Porownania/Classification/simple500loss.png'></td></tr></table>"
      ],
      "text/plain": [
       "<IPython.core.display.HTML object>"
      ]
     },
     "metadata": {},
     "output_type": "display_data"
    },
    {
     "name": "stdout",
     "output_type": "stream",
     "text": [
      "three_gauss10000compare.png\n"
     ]
    },
    {
     "data": {
      "text/html": [
       "<table><tr><td><img src='files/Porownania/Classification/three_gauss10000compare.png'></td><td><img src='files/Porownania/Classification/three_gauss10000loss.png'></td></tr></table>"
      ],
      "text/plain": [
       "<IPython.core.display.HTML object>"
      ]
     },
     "metadata": {},
     "output_type": "display_data"
    },
    {
     "name": "stdout",
     "output_type": "stream",
     "text": [
      "three_gauss1000compare.png\n"
     ]
    },
    {
     "data": {
      "text/html": [
       "<table><tr><td><img src='files/Porownania/Classification/three_gauss1000compare.png'></td><td><img src='files/Porownania/Classification/three_gauss1000loss.png'></td></tr></table>"
      ],
      "text/plain": [
       "<IPython.core.display.HTML object>"
      ]
     },
     "metadata": {},
     "output_type": "display_data"
    },
    {
     "name": "stdout",
     "output_type": "stream",
     "text": [
      "three_gauss100compare.png\n"
     ]
    },
    {
     "data": {
      "text/html": [
       "<table><tr><td><img src='files/Porownania/Classification/three_gauss100compare.png'></td><td><img src='files/Porownania/Classification/three_gauss100loss.png'></td></tr></table>"
      ],
      "text/plain": [
       "<IPython.core.display.HTML object>"
      ]
     },
     "metadata": {},
     "output_type": "display_data"
    },
    {
     "name": "stdout",
     "output_type": "stream",
     "text": [
      "three_gauss500compare.png\n"
     ]
    },
    {
     "data": {
      "text/html": [
       "<table><tr><td><img src='files/Porownania/Classification/three_gauss500compare.png'></td><td><img src='files/Porownania/Classification/three_gauss500loss.png'></td></tr></table>"
      ],
      "text/plain": [
       "<IPython.core.display.HTML object>"
      ]
     },
     "metadata": {},
     "output_type": "display_data"
    }
   ],
   "source": [
    "from IPython.display import HTML, display\n",
    "\n",
    "for i in range(int(len(classification_files)/2)):\n",
    "    print(classification_files[2*i][len('files/Porownania/Classification/'):])\n",
    "    display(HTML(\"<table><tr><td><img src='\"+classification_files[2*i]+\"'></td><td><img src='\"+classification_files[2*i+1]+\"'></td></tr></table>\"))"
   ]
  },
  {
   "cell_type": "markdown",
   "metadata": {},
   "source": [
    "2. Wyniki - Regresja"
   ]
  },
  {
   "cell_type": "code",
   "execution_count": 26,
   "metadata": {
    "scrolled": false
   },
   "outputs": [
    {
     "name": "stdout",
     "output_type": "stream",
     "text": [
      "activation10000compare.png\n"
     ]
    },
    {
     "data": {
      "text/html": [
       "<table><tr><td><img src='files/Porownania/Regression/activation10000compare.png'></td><td><img src='files/Porownania/Regression/activation10000loss.png'></td></tr></table>"
      ],
      "text/plain": [
       "<IPython.core.display.HTML object>"
      ]
     },
     "metadata": {},
     "output_type": "display_data"
    },
    {
     "name": "stdout",
     "output_type": "stream",
     "text": [
      "activation1000compare.png\n"
     ]
    },
    {
     "data": {
      "text/html": [
       "<table><tr><td><img src='files/Porownania/Regression/activation1000compare.png'></td><td><img src='files/Porownania/Regression/activation1000loss.png'></td></tr></table>"
      ],
      "text/plain": [
       "<IPython.core.display.HTML object>"
      ]
     },
     "metadata": {},
     "output_type": "display_data"
    },
    {
     "name": "stdout",
     "output_type": "stream",
     "text": [
      "activation100compare.png\n"
     ]
    },
    {
     "data": {
      "text/html": [
       "<table><tr><td><img src='files/Porownania/Regression/activation100compare.png'></td><td><img src='files/Porownania/Regression/activation100loss.png'></td></tr></table>"
      ],
      "text/plain": [
       "<IPython.core.display.HTML object>"
      ]
     },
     "metadata": {},
     "output_type": "display_data"
    },
    {
     "name": "stdout",
     "output_type": "stream",
     "text": [
      "activation500compare.png\n"
     ]
    },
    {
     "data": {
      "text/html": [
       "<table><tr><td><img src='files/Porownania/Regression/activation500compare.png'></td><td><img src='files/Porownania/Regression/activation500loss.png'></td></tr></table>"
      ],
      "text/plain": [
       "<IPython.core.display.HTML object>"
      ]
     },
     "metadata": {},
     "output_type": "display_data"
    },
    {
     "name": "stdout",
     "output_type": "stream",
     "text": [
      "cube10000compare.png\n"
     ]
    },
    {
     "data": {
      "text/html": [
       "<table><tr><td><img src='files/Porownania/Regression/cube10000compare.png'></td><td><img src='files/Porownania/Regression/cube10000loss.png'></td></tr></table>"
      ],
      "text/plain": [
       "<IPython.core.display.HTML object>"
      ]
     },
     "metadata": {},
     "output_type": "display_data"
    },
    {
     "name": "stdout",
     "output_type": "stream",
     "text": [
      "cube1000compare.png\n"
     ]
    },
    {
     "data": {
      "text/html": [
       "<table><tr><td><img src='files/Porownania/Regression/cube1000compare.png'></td><td><img src='files/Porownania/Regression/cube1000loss.png'></td></tr></table>"
      ],
      "text/plain": [
       "<IPython.core.display.HTML object>"
      ]
     },
     "metadata": {},
     "output_type": "display_data"
    },
    {
     "name": "stdout",
     "output_type": "stream",
     "text": [
      "cube100compare.png\n"
     ]
    },
    {
     "data": {
      "text/html": [
       "<table><tr><td><img src='files/Porownania/Regression/cube100compare.png'></td><td><img src='files/Porownania/Regression/cube100loss.png'></td></tr></table>"
      ],
      "text/plain": [
       "<IPython.core.display.HTML object>"
      ]
     },
     "metadata": {},
     "output_type": "display_data"
    },
    {
     "name": "stdout",
     "output_type": "stream",
     "text": [
      "cube500compare.png\n"
     ]
    },
    {
     "data": {
      "text/html": [
       "<table><tr><td><img src='files/Porownania/Regression/cube500compare.png'></td><td><img src='files/Porownania/Regression/cube500loss.png'></td></tr></table>"
      ],
      "text/plain": [
       "<IPython.core.display.HTML object>"
      ]
     },
     "metadata": {},
     "output_type": "display_data"
    },
    {
     "name": "stdout",
     "output_type": "stream",
     "text": [
      "linear10000compare.png\n"
     ]
    },
    {
     "data": {
      "text/html": [
       "<table><tr><td><img src='files/Porownania/Regression/linear10000compare.png'></td><td><img src='files/Porownania/Regression/linear10000loss.png'></td></tr></table>"
      ],
      "text/plain": [
       "<IPython.core.display.HTML object>"
      ]
     },
     "metadata": {},
     "output_type": "display_data"
    },
    {
     "name": "stdout",
     "output_type": "stream",
     "text": [
      "linear1000compare.png\n"
     ]
    },
    {
     "data": {
      "text/html": [
       "<table><tr><td><img src='files/Porownania/Regression/linear1000compare.png'></td><td><img src='files/Porownania/Regression/linear1000loss.png'></td></tr></table>"
      ],
      "text/plain": [
       "<IPython.core.display.HTML object>"
      ]
     },
     "metadata": {},
     "output_type": "display_data"
    },
    {
     "name": "stdout",
     "output_type": "stream",
     "text": [
      "linear100compare.png\n"
     ]
    },
    {
     "data": {
      "text/html": [
       "<table><tr><td><img src='files/Porownania/Regression/linear100compare.png'></td><td><img src='files/Porownania/Regression/linear100loss.png'></td></tr></table>"
      ],
      "text/plain": [
       "<IPython.core.display.HTML object>"
      ]
     },
     "metadata": {},
     "output_type": "display_data"
    },
    {
     "name": "stdout",
     "output_type": "stream",
     "text": [
      "linear500compare.png\n"
     ]
    },
    {
     "data": {
      "text/html": [
       "<table><tr><td><img src='files/Porownania/Regression/linear500compare.png'></td><td><img src='files/Porownania/Regression/linear500loss.png'></td></tr></table>"
      ],
      "text/plain": [
       "<IPython.core.display.HTML object>"
      ]
     },
     "metadata": {},
     "output_type": "display_data"
    },
    {
     "name": "stdout",
     "output_type": "stream",
     "text": [
      "multimodal10000compare.png\n"
     ]
    },
    {
     "data": {
      "text/html": [
       "<table><tr><td><img src='files/Porownania/Regression/multimodal10000compare.png'></td><td><img src='files/Porownania/Regression/multimodal10000loss.png'></td></tr></table>"
      ],
      "text/plain": [
       "<IPython.core.display.HTML object>"
      ]
     },
     "metadata": {},
     "output_type": "display_data"
    },
    {
     "name": "stdout",
     "output_type": "stream",
     "text": [
      "multimodal1000compare.png\n"
     ]
    },
    {
     "data": {
      "text/html": [
       "<table><tr><td><img src='files/Porownania/Regression/multimodal1000compare.png'></td><td><img src='files/Porownania/Regression/multimodal1000loss.png'></td></tr></table>"
      ],
      "text/plain": [
       "<IPython.core.display.HTML object>"
      ]
     },
     "metadata": {},
     "output_type": "display_data"
    },
    {
     "name": "stdout",
     "output_type": "stream",
     "text": [
      "multimodal100compare.png\n"
     ]
    },
    {
     "data": {
      "text/html": [
       "<table><tr><td><img src='files/Porownania/Regression/multimodal100compare.png'></td><td><img src='files/Porownania/Regression/multimodal100loss.png'></td></tr></table>"
      ],
      "text/plain": [
       "<IPython.core.display.HTML object>"
      ]
     },
     "metadata": {},
     "output_type": "display_data"
    },
    {
     "name": "stdout",
     "output_type": "stream",
     "text": [
      "multimodal500compare.png\n"
     ]
    },
    {
     "data": {
      "text/html": [
       "<table><tr><td><img src='files/Porownania/Regression/multimodal500compare.png'></td><td><img src='files/Porownania/Regression/multimodal500loss.png'></td></tr></table>"
      ],
      "text/plain": [
       "<IPython.core.display.HTML object>"
      ]
     },
     "metadata": {},
     "output_type": "display_data"
    },
    {
     "name": "stdout",
     "output_type": "stream",
     "text": [
      "square10000compare.png\n"
     ]
    },
    {
     "data": {
      "text/html": [
       "<table><tr><td><img src='files/Porownania/Regression/square10000compare.png'></td><td><img src='files/Porownania/Regression/square10000loss.png'></td></tr></table>"
      ],
      "text/plain": [
       "<IPython.core.display.HTML object>"
      ]
     },
     "metadata": {},
     "output_type": "display_data"
    },
    {
     "name": "stdout",
     "output_type": "stream",
     "text": [
      "square1000compare.png\n"
     ]
    },
    {
     "data": {
      "text/html": [
       "<table><tr><td><img src='files/Porownania/Regression/square1000compare.png'></td><td><img src='files/Porownania/Regression/square1000loss.png'></td></tr></table>"
      ],
      "text/plain": [
       "<IPython.core.display.HTML object>"
      ]
     },
     "metadata": {},
     "output_type": "display_data"
    },
    {
     "name": "stdout",
     "output_type": "stream",
     "text": [
      "square100compare.png\n"
     ]
    },
    {
     "data": {
      "text/html": [
       "<table><tr><td><img src='files/Porownania/Regression/square100compare.png'></td><td><img src='files/Porownania/Regression/square100loss.png'></td></tr></table>"
      ],
      "text/plain": [
       "<IPython.core.display.HTML object>"
      ]
     },
     "metadata": {},
     "output_type": "display_data"
    },
    {
     "name": "stdout",
     "output_type": "stream",
     "text": [
      "square500compare.png\n"
     ]
    },
    {
     "data": {
      "text/html": [
       "<table><tr><td><img src='files/Porownania/Regression/square500compare.png'></td><td><img src='files/Porownania/Regression/square500loss.png'></td></tr></table>"
      ],
      "text/plain": [
       "<IPython.core.display.HTML object>"
      ]
     },
     "metadata": {},
     "output_type": "display_data"
    }
   ],
   "source": [
    "from IPython.display import HTML, display\n",
    "\n",
    "for i in range(int(len(regression_files)/2)):\n",
    "    print(regression_files[2*i][len('files/Porownania/Regression/'):])\n",
    "    display(HTML(\"<table><tr><td><img src='\"+regression_files[2*i]+\"'></td><td><img src='\"+regression_files[2*i+1]+\"'></td></tr></table>\"))"
   ]
  },
  {
   "cell_type": "markdown",
   "metadata": {},
   "source": [
    "# Wnioski"
   ]
  },
  {
   "cell_type": "markdown",
   "metadata": {},
   "source": [
    "·        Dla prawie wszystkich zbiorów danych dla klasyfikacji udaje się uzyskać bardzo dobre wyniki, na poziomie powyżej 95% accuracy(jest to frakcja dobrze przypasowanych klas).\n",
    "\n",
    "·        Jedyną trudnością dla naszej sieci jest zbiór three_gauss z 10000 próbkami.\n",
    "\n",
    "·        Jest to dość osobliwa sytuacja, gdyż w każdym innym przypadku im większy jest zbiór treningowy, tym lepiej sieć się dopasowuje.\n",
    "\n",
    "Może to być spowodowane tym, że jest to zbiór na który nakładają się różne warstwy punktów, a sieć tego nie rozróżnia.\n",
    "\n",
    "·        Dla regresji sprawa ma się nieco gorzej. Gdyż zmiana jaka zachodzi w architekturze sieci (zmiana funkcji aktywacji na ostatniej warstwie) znacząco wpływa na dopasowanie sieci.\n",
    "\n",
    "·        Dla zbiorów activation  oraz linear sieć przewiduje z bardzo dobrym accuracy (W tym wypadku jest to uśredniony moduł błędu), który jest bardzo mały.\n",
    "\n",
    "·        Dla zbioru multimodal accuracy jest większe, jednakże sieć również nie daje sobie rady, próbuje uśredniać funkcję która ma na wejściu. Widać to bardzo dobrze na wykresie.\n",
    "\n",
    "·        Dla zbiorów cube  oraz square siec stara się przybliżyć funkcję liniową do funkcji kwadratowej i sześciennej i nie daje sobie rady. Może to być spowodowane tym, że funkcja aktywacji jest funkcją liniową, a próbujemy estymować nieliniowe zależności.\n",
    "\n",
    "·        Wypróbowując różne funkcje aktywacji i wielkość sieci zaobserwowałyśmy, że:\n",
    "\n",
    "·        w wypadku klasyfikacji bardzo dobrze się sprawdza niewielka liczba warstw (około 5) oraz duża liczba neuronów (około 10) oraz funkcja aktywacji jaką jest sigmoida.\n",
    "\n",
    "·        Natomiast w przypadku regresji najlepiej sprawdza się jedna warstwa i dużo neuronów (17) lub kilka warstw(3) i zmieniająca się malejąco liczba neuronów w warstwach (30,15,1)\n",
    "\n",
    "·        Zarówno dla regresji i klasyfikacji zauważyłyśmy zależność, że im więcej damy epok, tym lepsze dopasowania dostajemy. Jednak szybciej zbiega wykres błędy dla klasyfikacji. Można zauważyć, że już po niewielu epokach (około 100) wykres błędu jest bardzo wygładzony, więc zmiana dopasowania nie jest duża, aczkolwiek ciągle maleje, co jest pocieszające.\n",
    "\n",
    "·        Przy klasyfikacji bardzo duże znaczenie do poprawy wyników miało wprowadzenie dzielenia zbiorów na mniejsze (mini batche) co skutkowało tym, że sieć miała dużo więcej możliwości do nauczenia się (zamiast jednego zbioru miała np.100), dzięki czemu, żeby osiągnąć tą samą wartość błędu sieci potrzeba było znacznie mniejszej liczby epok, a co za tym idzie, pamięciowo i obliczeniowo działa lepiej.\n",
    "\n",
    "·        Zauważyłyśmy też, że w wypadku regresji dla zbiorów, w których estymowane wartości są duże, na poprawę wyników wpływa standaryzacja zmiennych oraz zmiana funkcji aktywacji na tangens hiperboliczny, a jeżeli chcemy zostać przy funkcji aktywacji jako sigmoida, musimy się liczyć z tym, że gradient będzie malał bardzo powoli dla dużych wartości ujemnych bądź dodatnich, więc musimy temu jakoś zaradzić, zatem zwiększamy mocno ilość epok, lub zwiększamy wartość współczynnika nauki."
   ]
  }
 ],
 "metadata": {
  "kernelspec": {
   "display_name": "Python 3",
   "language": "python",
   "name": "python3"
  },
  "language_info": {
   "codemirror_mode": {
    "name": "ipython",
    "version": 3
   },
   "file_extension": ".py",
   "mimetype": "text/x-python",
   "name": "python",
   "nbconvert_exporter": "python",
   "pygments_lexer": "ipython3",
   "version": "3.7.1"
  }
 },
 "nbformat": 4,
 "nbformat_minor": 2
}
